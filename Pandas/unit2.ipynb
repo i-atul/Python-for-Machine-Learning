{
 "cells": [
  {
   "cell_type": "markdown",
   "id": "3f270f47",
   "metadata": {},
   "source": [
    "## Loading and Saving Data (CSV, JSON, APIs, etc)"
   ]
  },
  {
   "cell_type": "markdown",
   "id": "30eb7ed6",
   "metadata": {},
   "source": [
    "- Most real-world data exists as files: CSV, Excel, JSON, or databases.\n",
    "- Every project starts with **loading** data and often ends with **saving** results."
   ]
  },
  {
   "cell_type": "markdown",
   "id": "778235a3",
   "metadata": {},
   "source": [
    "### Load and Save Data from CSV Files"
   ]
  },
  {
   "cell_type": "code",
   "execution_count": 143,
   "id": "00190a03",
   "metadata": {},
   "outputs": [],
   "source": [
    "import pandas as pd"
   ]
  },
  {
   "cell_type": "code",
   "execution_count": 144,
   "id": "c9841376",
   "metadata": {},
   "outputs": [
    {
     "data": {
      "text/plain": [
       "'/home/as/practice/Python-for-Machine-Learning/Datasets'"
      ]
     },
     "execution_count": 144,
     "metadata": {},
     "output_type": "execute_result"
    }
   ],
   "source": [
    "%pwd"
   ]
  },
  {
   "cell_type": "code",
   "execution_count": 145,
   "id": "90293279",
   "metadata": {},
   "outputs": [
    {
     "name": "stdout",
     "output_type": "stream",
     "text": [
      "/home/as/practice/Python-for-Machine-Learning\n"
     ]
    }
   ],
   "source": [
    "cd .."
   ]
  },
  {
   "cell_type": "code",
   "execution_count": 146,
   "id": "be2e308a",
   "metadata": {},
   "outputs": [],
   "source": [
    "# Load the dataset\n",
    "df = pd.read_csv('Datasets/airbnb_listings.csv')"
   ]
  },
  {
   "cell_type": "code",
   "execution_count": 147,
   "id": "fa260541",
   "metadata": {},
   "outputs": [
    {
     "data": {
      "text/html": [
       "<div>\n",
       "<style scoped>\n",
       "    .dataframe tbody tr th:only-of-type {\n",
       "        vertical-align: middle;\n",
       "    }\n",
       "\n",
       "    .dataframe tbody tr th {\n",
       "        vertical-align: top;\n",
       "    }\n",
       "\n",
       "    .dataframe thead th {\n",
       "        text-align: right;\n",
       "    }\n",
       "</style>\n",
       "<table border=\"1\" class=\"dataframe\">\n",
       "  <thead>\n",
       "    <tr style=\"text-align: right;\">\n",
       "      <th></th>\n",
       "      <th>id</th>\n",
       "      <th>listing_url</th>\n",
       "      <th>scrape_id</th>\n",
       "      <th>last_scraped</th>\n",
       "      <th>source</th>\n",
       "      <th>name</th>\n",
       "      <th>description</th>\n",
       "      <th>neighborhood_overview</th>\n",
       "      <th>picture_url</th>\n",
       "      <th>host_id</th>\n",
       "      <th>...</th>\n",
       "      <th>review_scores_communication</th>\n",
       "      <th>review_scores_location</th>\n",
       "      <th>review_scores_value</th>\n",
       "      <th>license</th>\n",
       "      <th>instant_bookable</th>\n",
       "      <th>calculated_host_listings_count</th>\n",
       "      <th>calculated_host_listings_count_entire_homes</th>\n",
       "      <th>calculated_host_listings_count_private_rooms</th>\n",
       "      <th>calculated_host_listings_count_shared_rooms</th>\n",
       "      <th>reviews_per_month</th>\n",
       "    </tr>\n",
       "  </thead>\n",
       "  <tbody>\n",
       "    <tr>\n",
       "      <th>0</th>\n",
       "      <td>2992450</td>\n",
       "      <td>https://www.airbnb.com/rooms/2992450</td>\n",
       "      <td>20250609011619</td>\n",
       "      <td>2025-06-09</td>\n",
       "      <td>city scrape</td>\n",
       "      <td>Luxury 2 bedroom apartment</td>\n",
       "      <td>The apartment is located in a quiet neighborho...</td>\n",
       "      <td>NaN</td>\n",
       "      <td>https://a0.muscache.com/pictures/44627226/0e72...</td>\n",
       "      <td>4621559</td>\n",
       "      <td>...</td>\n",
       "      <td>4.56</td>\n",
       "      <td>3.22</td>\n",
       "      <td>3.67</td>\n",
       "      <td>NaN</td>\n",
       "      <td>f</td>\n",
       "      <td>1</td>\n",
       "      <td>1</td>\n",
       "      <td>0</td>\n",
       "      <td>0</td>\n",
       "      <td>0.07</td>\n",
       "    </tr>\n",
       "    <tr>\n",
       "      <th>1</th>\n",
       "      <td>3820211</td>\n",
       "      <td>https://www.airbnb.com/rooms/3820211</td>\n",
       "      <td>20250609011619</td>\n",
       "      <td>2025-06-09</td>\n",
       "      <td>city scrape</td>\n",
       "      <td>Restored Precinct in Center Sq. w/Parking</td>\n",
       "      <td>Cozy, cool little 1BR Apt in the heart Albany'...</td>\n",
       "      <td>Great restaurants, architecture, walking, peop...</td>\n",
       "      <td>https://a0.muscache.com/pictures/prohost-api/H...</td>\n",
       "      <td>19648678</td>\n",
       "      <td>...</td>\n",
       "      <td>4.81</td>\n",
       "      <td>4.83</td>\n",
       "      <td>4.78</td>\n",
       "      <td>NaN</td>\n",
       "      <td>f</td>\n",
       "      <td>4</td>\n",
       "      <td>4</td>\n",
       "      <td>0</td>\n",
       "      <td>0</td>\n",
       "      <td>2.34</td>\n",
       "    </tr>\n",
       "  </tbody>\n",
       "</table>\n",
       "<p>2 rows × 79 columns</p>\n",
       "</div>"
      ],
      "text/plain": [
       "        id                           listing_url       scrape_id last_scraped  \\\n",
       "0  2992450  https://www.airbnb.com/rooms/2992450  20250609011619   2025-06-09   \n",
       "1  3820211  https://www.airbnb.com/rooms/3820211  20250609011619   2025-06-09   \n",
       "\n",
       "        source                                       name  \\\n",
       "0  city scrape                 Luxury 2 bedroom apartment   \n",
       "1  city scrape  Restored Precinct in Center Sq. w/Parking   \n",
       "\n",
       "                                         description  \\\n",
       "0  The apartment is located in a quiet neighborho...   \n",
       "1  Cozy, cool little 1BR Apt in the heart Albany'...   \n",
       "\n",
       "                               neighborhood_overview  \\\n",
       "0                                                NaN   \n",
       "1  Great restaurants, architecture, walking, peop...   \n",
       "\n",
       "                                         picture_url   host_id  ...  \\\n",
       "0  https://a0.muscache.com/pictures/44627226/0e72...   4621559  ...   \n",
       "1  https://a0.muscache.com/pictures/prohost-api/H...  19648678  ...   \n",
       "\n",
       "  review_scores_communication review_scores_location review_scores_value  \\\n",
       "0                        4.56                   3.22                3.67   \n",
       "1                        4.81                   4.83                4.78   \n",
       "\n",
       "  license instant_bookable calculated_host_listings_count  \\\n",
       "0     NaN                f                              1   \n",
       "1     NaN                f                              4   \n",
       "\n",
       "  calculated_host_listings_count_entire_homes  \\\n",
       "0                                           1   \n",
       "1                                           4   \n",
       "\n",
       "  calculated_host_listings_count_private_rooms  \\\n",
       "0                                            0   \n",
       "1                                            0   \n",
       "\n",
       "  calculated_host_listings_count_shared_rooms reviews_per_month  \n",
       "0                                           0              0.07  \n",
       "1                                           0              2.34  \n",
       "\n",
       "[2 rows x 79 columns]"
      ]
     },
     "execution_count": 147,
     "metadata": {},
     "output_type": "execute_result"
    }
   ],
   "source": [
    "df.head(2)"
   ]
  },
  {
   "cell_type": "code",
   "execution_count": 148,
   "id": "9623f38a",
   "metadata": {},
   "outputs": [],
   "source": [
    "# Saving Data to CSV Files\n",
    "SaveData = df.to_csv('Datasets/airbnb_listings_copy.csv', index=False)"
   ]
  },
  {
   "cell_type": "markdown",
   "id": "6d1297bb",
   "metadata": {},
   "source": [
    "Note: \n",
    "- Use `pd.read_csv('file_path')` to load CSV files.\n",
    "- Use `df.to_csv('file_path', index=False)` to save DataFrames to CSV.\n",
    "- `index=False` prevents saving the DataFrame index as a column.\n",
    "- Use CSV for big data if possible becasuse Excel(.xlxs) files are heavier. "
   ]
  },
  {
   "cell_type": "markdown",
   "id": "b4cae85d",
   "metadata": {},
   "source": [
    "### Loading JSON data from an API "
   ]
  },
  {
   "cell_type": "code",
   "execution_count": 149,
   "id": "352a9061",
   "metadata": {},
   "outputs": [
    {
     "name": "stdout",
     "output_type": "stream",
     "text": [
      "<class 'list'>\n"
     ]
    }
   ],
   "source": [
    "import requests\n",
    "\n",
    "# API endpoint\n",
    "url = 'https://jsonplaceholder.typicode.com/users'\n",
    "\n",
    "# Get JSON data from API\n",
    "response = requests.get(url)\n",
    "data = response.json()\n",
    "\n",
    "print(type(data))"
   ]
  },
  {
   "cell_type": "code",
   "execution_count": 150,
   "id": "d8dfa0f0",
   "metadata": {},
   "outputs": [
    {
     "name": "stdout",
     "output_type": "stream",
     "text": [
      "   id           name   username              email  \\\n",
      "0   1  Leanne Graham       Bret  Sincere@april.biz   \n",
      "1   2   Ervin Howell  Antonette  Shanna@melissa.tv   \n",
      "\n",
      "                                             address                  phone  \\\n",
      "0  {'street': 'Kulas Light', 'suite': 'Apt. 556',...  1-770-736-8031 x56442   \n",
      "1  {'street': 'Victor Plains', 'suite': 'Suite 87...    010-692-6593 x09125   \n",
      "\n",
      "         website                                            company  \n",
      "0  hildegard.org  {'name': 'Romaguera-Crona', 'catchPhrase': 'Mu...  \n",
      "1  anastasia.net  {'name': 'Deckow-Crist', 'catchPhrase': 'Proac...  \n"
     ]
    }
   ],
   "source": [
    "# Load JSON into Pandas DataFrame\n",
    "df = pd.DataFrame(data)\n",
    "\n",
    "# Print the first few rows\n",
    "print(df.head(2))"
   ]
  },
  {
   "cell_type": "code",
   "execution_count": 151,
   "id": "69764b4c",
   "metadata": {},
   "outputs": [
    {
     "name": "stdout",
     "output_type": "stream",
     "text": [
      "/home/as/practice/Python-for-Machine-Learning/Datasets\n"
     ]
    }
   ],
   "source": [
    "cd Datasets"
   ]
  },
  {
   "cell_type": "code",
   "execution_count": 152,
   "id": "c74276d7",
   "metadata": {},
   "outputs": [],
   "source": [
    "#  Save the DataFrame into a JSON file\n",
    "df.to_json('users.json', orient='records', indent=4, lines=True)"
   ]
  },
  {
   "cell_type": "markdown",
   "id": "e4a75221",
   "metadata": {},
   "source": [
    "Note : \n",
    "\n",
    "- Use `requests` to fetch JSON data from APIs.\n",
    "- Use `response.json()` to convert the response to a Python object (list or dict).\n",
    "\n",
    "- Load it into a Pandas DataFrame with `pd.DataFrame(data)`.\n",
    "\n",
    "- Save it to a JSON file with `df.to_json('file.json', orient='records', indent=4, lines=True)`.\n",
    "    - `orient='records'` makes each row a separate JSON object, which is useful for APIs.\n",
    "    - `lines=True` writes each JSON object on a new line, which is useful for large files or streaming.\n",
    "    - `indent=4` makes the JSON file more readable by adding indentation.\n",
    "\n",
    "- Use `pd.read_json('file.json')` to load the JSON file back into a DataFrame."
   ]
  },
  {
   "cell_type": "markdown",
   "id": "8b2e0399",
   "metadata": {},
   "source": [
    "### Loading Data from Google Drive"
   ]
  },
  {
   "cell_type": "code",
   "execution_count": 153,
   "id": "d20fca4c",
   "metadata": {},
   "outputs": [
    {
     "name": "stderr",
     "output_type": "stream",
     "text": [
      "9628.47s - pydevd: Sending message related to process being replaced timed-out after 5 seconds\n"
     ]
    },
    {
     "name": "stdout",
     "output_type": "stream",
     "text": [
      "Requirement already satisfied: gdown in /home/as/miniconda3/envs/.ml/lib/python3.10/site-packages (5.2.0)\n",
      "Requirement already satisfied: beautifulsoup4 in /home/as/miniconda3/envs/.ml/lib/python3.10/site-packages (from gdown) (4.13.4)\n",
      "Requirement already satisfied: filelock in /home/as/miniconda3/envs/.ml/lib/python3.10/site-packages (from gdown) (3.18.0)\n",
      "Requirement already satisfied: requests[socks] in /home/as/miniconda3/envs/.ml/lib/python3.10/site-packages (from gdown) (2.32.4)\n",
      "Requirement already satisfied: tqdm in /home/as/miniconda3/envs/.ml/lib/python3.10/site-packages (from gdown) (4.67.1)\n",
      "Requirement already satisfied: soupsieve>1.2 in /home/as/miniconda3/envs/.ml/lib/python3.10/site-packages (from beautifulsoup4->gdown) (2.7)\n",
      "Requirement already satisfied: typing-extensions>=4.0.0 in /home/as/miniconda3/envs/.ml/lib/python3.10/site-packages (from beautifulsoup4->gdown) (4.14.1)\n",
      "Requirement already satisfied: charset_normalizer<4,>=2 in /home/as/miniconda3/envs/.ml/lib/python3.10/site-packages (from requests[socks]->gdown) (3.4.2)\n",
      "Requirement already satisfied: idna<4,>=2.5 in /home/as/miniconda3/envs/.ml/lib/python3.10/site-packages (from requests[socks]->gdown) (3.10)\n",
      "Requirement already satisfied: urllib3<3,>=1.21.1 in /home/as/miniconda3/envs/.ml/lib/python3.10/site-packages (from requests[socks]->gdown) (2.5.0)\n",
      "Requirement already satisfied: certifi>=2017.4.17 in /home/as/miniconda3/envs/.ml/lib/python3.10/site-packages (from requests[socks]->gdown) (2025.6.15)\n",
      "Requirement already satisfied: PySocks!=1.5.7,>=1.5.6 in /home/as/miniconda3/envs/.ml/lib/python3.10/site-packages (from requests[socks]->gdown) (1.7.1)\n",
      "Note: you may need to restart the kernel to use updated packages.\n"
     ]
    }
   ],
   "source": [
    "%pip install gdown"
   ]
  },
  {
   "cell_type": "code",
   "execution_count": 154,
   "id": "a0c392ba",
   "metadata": {},
   "outputs": [],
   "source": [
    "import gdown"
   ]
  },
  {
   "cell_type": "code",
   "execution_count": 155,
   "id": "79238701",
   "metadata": {},
   "outputs": [
    {
     "name": "stdout",
     "output_type": "stream",
     "text": [
      "<class 'str'>\n"
     ]
    }
   ],
   "source": [
    "# Note: The URL should be a public shareable link from Google Drive\n",
    "url =  'https://drive.google.com/file/d/1p3-HMfa13rjQRKFUD5kGH92gzimt3yyV/view?usp=sharing'\n",
    "\n",
    "print(type(url))"
   ]
  },
  {
   "cell_type": "code",
   "execution_count": 156,
   "id": "286174fc",
   "metadata": {},
   "outputs": [
    {
     "data": {
      "text/plain": [
       "['https:',\n",
       " '',\n",
       " 'drive.google.com',\n",
       " 'file',\n",
       " 'd',\n",
       " '1p3-HMfa13rjQRKFUD5kGH92gzimt3yyV',\n",
       " 'view?usp=sharing']"
      ]
     },
     "execution_count": 156,
     "metadata": {},
     "output_type": "execute_result"
    }
   ],
   "source": [
    "#split the URL to get the file ID\n",
    "url.split(\"/\") "
   ]
  },
  {
   "cell_type": "code",
   "execution_count": 157,
   "id": "922fda7f",
   "metadata": {},
   "outputs": [],
   "source": [
    "# Function to download a file from Google Drive using gdown\n",
    "\n",
    "def download_from_gdrive(url: str, output: str = \"pandas.zip\"):\n",
    "    drive_id = url.split('/')[-2] # Extract the file ID from the URL\n",
    "    prefix = 'https://drive.google.com/uc?/export=download&id='\n",
    "    gdown.download(prefix + drive_id, output)"
   ]
  },
  {
   "cell_type": "code",
   "execution_count": 158,
   "id": "cb071af9",
   "metadata": {},
   "outputs": [
    {
     "name": "stderr",
     "output_type": "stream",
     "text": [
      "Downloading...\n",
      "From: https://drive.google.com/uc?/export=download&id=1p3-HMfa13rjQRKFUD5kGH92gzimt3yyV\n",
      "To: /home/as/practice/Python-for-Machine-Learning/Datasets/pandas.zip\n",
      "100%|██████████| 34.0k/34.0k [00:00<00:00, 2.05MB/s]\n"
     ]
    }
   ],
   "source": [
    "download_from_gdrive(url)"
   ]
  }
 ],
 "metadata": {
  "kernelspec": {
   "display_name": ".ml",
   "language": "python",
   "name": "python3"
  },
  "language_info": {
   "codemirror_mode": {
    "name": "ipython",
    "version": 3
   },
   "file_extension": ".py",
   "mimetype": "text/x-python",
   "name": "python",
   "nbconvert_exporter": "python",
   "pygments_lexer": "ipython3",
   "version": "3.10.18"
  }
 },
 "nbformat": 4,
 "nbformat_minor": 5
}
