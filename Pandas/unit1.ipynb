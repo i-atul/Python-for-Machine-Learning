{
 "cells": [
  {
   "cell_type": "markdown",
   "id": "55de129f",
   "metadata": {},
   "source": [
    "## Introduction to Pandas & Core Data Structures"
   ]
  },
  {
   "cell_type": "markdown",
   "id": "193bd196",
   "metadata": {},
   "source": [
    "### What is Pandas?\n",
    "\n",
    "- Open-source Python library for handling structured data (rows & columns).\n",
    "\n",
    "- Used in data analysis, preprocessing, business reports, machine learning.\n",
    "\n",
    "- Document : https://pandas.pydata.org/docs/getting_started/install.html"
   ]
  },
  {
   "cell_type": "markdown",
   "id": "af5e9372",
   "metadata": {},
   "source": [
    "### How to Install Pandas"
   ]
  },
  {
   "cell_type": "code",
   "execution_count": 83,
   "id": "253c4baf",
   "metadata": {},
   "outputs": [
    {
     "name": "stdout",
     "output_type": "stream",
     "text": [
      "Requirement already satisfied: pandas in /home/as/miniconda3/envs/.ml/lib/python3.10/site-packages (2.2.3)\n",
      "Requirement already satisfied: numpy>=1.22.4 in /home/as/miniconda3/envs/.ml/lib/python3.10/site-packages (from pandas) (2.0.1)\n",
      "Requirement already satisfied: python-dateutil>=2.8.2 in /home/as/miniconda3/envs/.ml/lib/python3.10/site-packages (from pandas) (2.9.0.post0)\n",
      "Requirement already satisfied: pytz>=2020.1 in /home/as/miniconda3/envs/.ml/lib/python3.10/site-packages (from pandas) (2025.2)\n",
      "Requirement already satisfied: tzdata>=2022.7 in /home/as/miniconda3/envs/.ml/lib/python3.10/site-packages (from pandas) (2025.2)\n",
      "Requirement already satisfied: six>=1.5 in /home/as/miniconda3/envs/.ml/lib/python3.10/site-packages (from python-dateutil>=2.8.2->pandas) (1.17.0)\n"
     ]
    }
   ],
   "source": [
    "# Run this command in terminal or Jupyter Notebook\n",
    "! pip install pandas"
   ]
  },
  {
   "cell_type": "markdown",
   "id": "f8abad35",
   "metadata": {},
   "source": [
    "### Importing Pandas"
   ]
  },
  {
   "cell_type": "code",
   "execution_count": 84,
   "id": "007c8d98",
   "metadata": {},
   "outputs": [],
   "source": [
    "import pandas as pd"
   ]
  },
  {
   "cell_type": "markdown",
   "id": "6459cb7d",
   "metadata": {},
   "source": [
    "### Pandas Series (1D Data)\n",
    "\n",
    "- One-dimensional labeled data (like a single Excel column).\n",
    "\n",
    "- Series is often used for single-variable analysis or as part of a larger DataFrame\n",
    "\n",
    "- Created from -\n",
    "    - List:\n",
    "        - `pd.Series([100, 200, 300])`\n",
    "        - Quick creation for simple datasets (sales, counts).\n",
    "\n",
    "    - Dictionary:\n",
    "        - `pd.Series({'Math': 95, 'Physics': 88})`\n",
    "        - Keys = labels ➔ Values = data.\n",
    "        - Useful for labeled data like survey responses or category scores.\n",
    "\n",
    "    - NumPy Array:\n",
    "        - `pd.Series(np.array([1, 2, 3, 4]))` \n",
    "        - Ideal when data comes from scientific computations or numeric simulations.\n",
    "\n",
    "✅ **Note:**\n",
    "In ML projects, you often receive data as NumPy ➔ Convert to Pandas for easier manipulation and readability."
   ]
  },
  {
   "cell_type": "code",
   "execution_count": 85,
   "id": "151fd1f1",
   "metadata": {},
   "outputs": [
    {
     "name": "stdout",
     "output_type": "stream",
     "text": [
      "Series from list:\n",
      "0    100\n",
      "1    200\n",
      "2    300\n",
      "dtype: int64\n"
     ]
    }
   ],
   "source": [
    "# From a List\n",
    "series_list = pd.Series([100, 200, 300])\n",
    "print('Series from list:')\n",
    "print(series_list)"
   ]
  },
  {
   "cell_type": "code",
   "execution_count": 86,
   "id": "a382552c",
   "metadata": {},
   "outputs": [
    {
     "name": "stdout",
     "output_type": "stream",
     "text": [
      "\n",
      "Series from dictionary:\n",
      "Math       95\n",
      "Physics    88\n",
      "dtype: int64\n"
     ]
    }
   ],
   "source": [
    "# From a Dictionary\n",
    "series_dict = pd.Series({'Math': 95, 'Physics': 88})\n",
    "print('\\nSeries from dictionary:')\n",
    "print(series_dict)"
   ]
  },
  {
   "cell_type": "code",
   "execution_count": 87,
   "id": "75721ed2",
   "metadata": {},
   "outputs": [
    {
     "name": "stdout",
     "output_type": "stream",
     "text": [
      "\n",
      "Series from NumPy array:\n",
      "0    1\n",
      "1    2\n",
      "2    3\n",
      "3    4\n",
      "dtype: int64\n"
     ]
    }
   ],
   "source": [
    "import numpy as np\n",
    "\n",
    "series_np = pd.Series(np.array([1, 2, 3, 4]))\n",
    "print('\\nSeries from NumPy array:')\n",
    "print(series_np)"
   ]
  },
  {
   "cell_type": "markdown",
   "id": "2129d173",
   "metadata": {},
   "source": [
    "### Pandas DataFrame (2D Data)\n",
    "- Two-dimensional, labeled rows & columns (like an Excel sheet).\n",
    "\n",
    "- Created from:\n",
    "    - Dictionary of Lists (Most Common):\n",
    "        - `pd.DataFrame({'Name': ['John', 'Sara'], 'Age': [28, 22]})`\n",
    "        - Best when data is manually created or imported from Excel.\n",
    "\n",
    "    - List of Dictionaries (API-Friendly):\n",
    "        - `pd.DataFrame([{'Name': 'John', 'Age': 28}, {'Name': 'Sara', 'Age': 22}])`\n",
    "        - Common when working with JSON APIs or MongoDB style documents.\n",
    "\n",
    "    - NumPy Arrays:\n",
    "        - `pd.DataFrame(np.array([[1, 2], [3, 4]]), columns=['A', 'B'])`\n",
    "        - Best for numeric matrices (images, financial models).\n",
    "\n",
    "    **pd.DataFrame(data) ➔ Tabular format.**\n",
    "\n",
    "✅ **Note:** Always set clear column names for readability and future automation."
   ]
  },
  {
   "cell_type": "code",
   "execution_count": 88,
   "id": "5749670c",
   "metadata": {},
   "outputs": [
    {
     "name": "stdout",
     "output_type": "stream",
     "text": [
      "DataFrame from dictionary of lists:\n",
      "   Name  Age\n",
      "0  John   28\n",
      "1  Sara   22\n"
     ]
    }
   ],
   "source": [
    "# From Dictionary of Lists\n",
    "df_dict = pd.DataFrame({'Name': ['John', 'Sara'], 'Age': [28, 22]})\n",
    "print('DataFrame from dictionary of lists:')\n",
    "print(df_dict)"
   ]
  },
  {
   "cell_type": "code",
   "execution_count": 89,
   "id": "76f6dffd",
   "metadata": {},
   "outputs": [
    {
     "name": "stdout",
     "output_type": "stream",
     "text": [
      "\n",
      "DataFrame from list of dictionaries:\n",
      "   Name  Age\n",
      "0  John   28\n",
      "1  Sara   22\n"
     ]
    }
   ],
   "source": [
    "# From List of Dictionaries\n",
    "df_list_dict = pd.DataFrame([{'Name': 'John', 'Age': 28}, {'Name': 'Sara', 'Age': 22}])\n",
    "print('\\nDataFrame from list of dictionaries:')\n",
    "print(df_list_dict)"
   ]
  },
  {
   "cell_type": "code",
   "execution_count": 90,
   "id": "edf4e192",
   "metadata": {},
   "outputs": [
    {
     "name": "stdout",
     "output_type": "stream",
     "text": [
      "\n",
      "DataFrame from NumPy array:\n",
      "   A  B\n",
      "0  1  2\n",
      "1  3  4\n"
     ]
    }
   ],
   "source": [
    "# From NumPy Arrays\n",
    "df_np = pd.DataFrame(np.array([[1, 2], [3, 4]]), columns=['A', 'B'])\n",
    "print('\\nDataFrame from NumPy array:')\n",
    "print(df_np)"
   ]
  },
  {
   "cell_type": "markdown",
   "id": "977a7e97",
   "metadata": {},
   "source": [
    "### Exploring DataFrames\n",
    "- View rows:  \n",
    "  `df.head()` ➔ First 5 rows (use numbers `df.head(10)` for no. of rows)  \n",
    "  `df.tail()` ➔ Last 5 rows (use numbers `df.tail(10)` for no. of rows) \n",
    "\n",
    "- Dimensions:  \n",
    "  `df.shape` ➔ Rows, Columns count\n",
    "\n",
    "- Columns: \n",
    "  `df.columns` ➔ List column names\n",
    "\n",
    "- Data Types:  \n",
    "  `df.dtypes` ➔ Understand types (important for ML models)\n",
    "\n",
    "- Quick Summary: \n",
    "  `df.info()` ➔ Nulls, types, size  \n",
    "  `df.describe()` ➔ Basic stats (for numeric data)"
   ]
  },
  {
   "cell_type": "markdown",
   "id": "aa9515c3",
   "metadata": {},
   "source": [
    "### Loading **Tips** DataFrames with Seaborn"
   ]
  },
  {
   "cell_type": "code",
   "execution_count": 91,
   "id": "e6a9d9e2",
   "metadata": {},
   "outputs": [],
   "source": [
    "import seaborn as sns\n",
    "\n",
    "\n",
    "df = sns.load_dataset('tips')"
   ]
  },
  {
   "cell_type": "code",
   "execution_count": 92,
   "id": "9baa568f",
   "metadata": {},
   "outputs": [
    {
     "name": "stdout",
     "output_type": "stream",
     "text": [
      "First 5 rows:\n",
      "   total_bill   tip     sex smoker  day    time  size\n",
      "0       16.99  1.01  Female     No  Sun  Dinner     2\n",
      "1       10.34  1.66    Male     No  Sun  Dinner     3\n",
      "2       21.01  3.50    Male     No  Sun  Dinner     3\n",
      "3       23.68  3.31    Male     No  Sun  Dinner     2\n",
      "4       24.59  3.61  Female     No  Sun  Dinner     4\n"
     ]
    }
   ],
   "source": [
    "print(\"First 5 rows:\")\n",
    "print(df.head())"
   ]
  },
  {
   "cell_type": "code",
   "execution_count": 93,
   "id": "fe3b19e8",
   "metadata": {},
   "outputs": [
    {
     "name": "stdout",
     "output_type": "stream",
     "text": [
      "Shape (rows, columns): (244, 7)\n"
     ]
    }
   ],
   "source": [
    "print(\"Shape (rows, columns):\", df.shape)"
   ]
  },
  {
   "cell_type": "code",
   "execution_count": 94,
   "id": "aaceaf71",
   "metadata": {},
   "outputs": [
    {
     "name": "stdout",
     "output_type": "stream",
     "text": [
      "Columns: Index(['total_bill', 'tip', 'sex', 'smoker', 'day', 'time', 'size'], dtype='object')\n"
     ]
    }
   ],
   "source": [
    "print(\"Columns:\", df.columns)"
   ]
  },
  {
   "cell_type": "code",
   "execution_count": 95,
   "id": "bfbf38c6",
   "metadata": {},
   "outputs": [
    {
     "name": "stdout",
     "output_type": "stream",
     "text": [
      "Data types:\n",
      " total_bill     float64\n",
      "tip            float64\n",
      "sex           category\n",
      "smoker        category\n",
      "day           category\n",
      "time          category\n",
      "size             int64\n",
      "dtype: object\n"
     ]
    }
   ],
   "source": [
    "print(\"Data types:\\n\", df.dtypes)"
   ]
  },
  {
   "cell_type": "code",
   "execution_count": 96,
   "id": "e20bd587",
   "metadata": {},
   "outputs": [
    {
     "name": "stdout",
     "output_type": "stream",
     "text": [
      "Info:\n",
      "\n",
      "<class 'pandas.core.frame.DataFrame'>\n",
      "RangeIndex: 244 entries, 0 to 243\n",
      "Data columns (total 7 columns):\n",
      " #   Column      Non-Null Count  Dtype   \n",
      "---  ------      --------------  -----   \n",
      " 0   total_bill  244 non-null    float64 \n",
      " 1   tip         244 non-null    float64 \n",
      " 2   sex         244 non-null    category\n",
      " 3   smoker      244 non-null    category\n",
      " 4   day         244 non-null    category\n",
      " 5   time        244 non-null    category\n",
      " 6   size        244 non-null    int64   \n",
      "dtypes: category(4), float64(2), int64(1)\n",
      "memory usage: 7.4 KB\n"
     ]
    }
   ],
   "source": [
    "print(\"Info:\\n\")\n",
    "df.info()"
   ]
  },
  {
   "cell_type": "code",
   "execution_count": 97,
   "id": "2b5673e6",
   "metadata": {},
   "outputs": [
    {
     "name": "stdout",
     "output_type": "stream",
     "text": [
      "Describe:\n",
      "\n",
      "       total_bill         tip        size\n",
      "count  244.000000  244.000000  244.000000\n",
      "mean    19.785943    2.998279    2.569672\n",
      "std      8.902412    1.383638    0.951100\n",
      "min      3.070000    1.000000    1.000000\n",
      "25%     13.347500    2.000000    2.000000\n",
      "50%     17.795000    2.900000    2.000000\n",
      "75%     24.127500    3.562500    3.000000\n",
      "max     50.810000   10.000000    6.000000\n"
     ]
    }
   ],
   "source": [
    "print(\"Describe:\\n\")\n",
    "print(df.describe())"
   ]
  },
  {
   "cell_type": "markdown",
   "id": "c426347e",
   "metadata": {},
   "source": [
    "### Real-World DataFrame Example — Customer Data\n",
    "Imagine receiving online store transaction data:\n",
    "\n",
    " ```python\n",
    "customer_list = [\n",
    " {'CustomerID': 101, 'Name': 'Alice', 'Purchase': 250.75},\n",
    " {'CustomerID': 102, 'Name': 'Bob', 'Purchase': 150.50},\n",
    " {'CustomerID': 103, 'Name': 'Charlie', 'Purchase': 300.00}\n",
    "]\n",
    "```\n",
    "- Use:\n",
    "`pd.DataFrame(customer_list)` ➔ Clean, ready-to-analyze tabular data.\n",
    "\n",
    "👉 This is exactly how API data or NoSQL database outputs look in real business projects.\n",
    "\n",
    "✅ **Note:**\n",
    "For messy nested JSON, use `json_normalize`."
   ]
  },
  {
   "cell_type": "code",
   "execution_count": 98,
   "id": "180ee8ec",
   "metadata": {},
   "outputs": [
    {
     "name": "stdout",
     "output_type": "stream",
     "text": [
      "Customer DataFrame:\n",
      "   CustomerID     Name  Purchase\n",
      "0         101    Alice    250.75\n",
      "1         102      Bob    150.50\n",
      "2         103  Charlie    300.00\n"
     ]
    }
   ],
   "source": [
    "customer_list = [\n",
    "    {'CustomerID': 101, 'Name': 'Alice', 'Purchase': 250.75},\n",
    "    {'CustomerID': 102, 'Name': 'Bob', 'Purchase': 150.50},\n",
    "    {'CustomerID': 103, 'Name': 'Charlie', 'Purchase': 300.00}\n",
    "]\n",
    "df_customers = pd.DataFrame(customer_list)\n",
    "print('Customer DataFrame:')\n",
    "print(df_customers)"
   ]
  },
  {
   "cell_type": "markdown",
   "id": "ac69f6d7",
   "metadata": {},
   "source": [
    "### Additional Essential Tricks\n",
    "- Create Empty DataFrame:\n",
    "    - `pd.DataFrame()` ➔ Useful when building a table programmatically.\n",
    "\n",
    "- Reset Index:\n",
    "    - `df.reset_index(drop=True)` ➔ Clean up index after filtering or grouping.\n",
    "\n",
    "- Add New Rows:\n",
    "    - Appending rows ➔ use `pd.concat()` (not `.append()`, which is deprecated).\n",
    "\n",
    "✅ **Note:**\n",
    "Instead of appending rows one by one (which is slow), collect rows in a list and convert once to DataFrame.\n",
    "\n",
    "**Example:**\n",
    "\n",
    "Create: `rows = []`\n",
    "\n",
    "Add: `rows.append({'col1': val1, 'col2': val2})`\n",
    "\n",
    "Build: `df = pd.DataFrame(rows)`"
   ]
  },
  {
   "cell_type": "code",
   "execution_count": 99,
   "id": "29c2276c",
   "metadata": {},
   "outputs": [
    {
     "name": "stdout",
     "output_type": "stream",
     "text": [
      "Empty DataFrame:\n",
      "Empty DataFrame\n",
      "Columns: []\n",
      "Index: []\n"
     ]
    }
   ],
   "source": [
    "# Create Empty DataFrame\n",
    "empty_df = pd.DataFrame()\n",
    "print('Empty DataFrame:')\n",
    "print(empty_df)"
   ]
  },
  {
   "cell_type": "code",
   "execution_count": 100,
   "id": "2713ab69",
   "metadata": {},
   "outputs": [
    {
     "name": "stdout",
     "output_type": "stream",
     "text": [
      "\n",
      "DataFrame after reset_index:\n",
      "   Name  Age\n",
      "0  John   28\n",
      "1  Sara   22\n"
     ]
    }
   ],
   "source": [
    "# Reset Index Example\n",
    "df_reset = df_dict.reset_index(drop=True)\n",
    "print('\\nDataFrame after reset_index:')\n",
    "print(df_reset)"
   ]
  },
  {
   "cell_type": "code",
   "execution_count": 101,
   "id": "a0ee8856",
   "metadata": {},
   "outputs": [
    {
     "name": "stdout",
     "output_type": "stream",
     "text": [
      "\n",
      "DataFrame from collected rows:\n",
      "   col1 col2\n",
      "0     1    A\n",
      "1     2    B\n"
     ]
    }
   ],
   "source": [
    "# Add New Rows Efficiently\n",
    "rows = []\n",
    "rows.append({'col1': 1, 'col2': 'A'})\n",
    "rows.append({'col1': 2, 'col2': 'B'})\n",
    "df_rows = pd.DataFrame(rows)\n",
    "print('\\nDataFrame from collected rows:')\n",
    "print(df_rows)"
   ]
  },
  {
   "cell_type": "markdown",
   "id": "efe086c6",
   "metadata": {},
   "source": [
    "### Accessing Columns in DataFrame\n",
    "- Single Column:\n",
    "    - Use square brackets: `df['Name']`\n",
    "    - Returns a Series.\n",
    "\n",
    "- Multiple Columns:\n",
    "    - Pass a list: `df[['Name', 'Score']]`\n",
    "    - Returns a DataFrame.\n",
    "    - Always use double square brackets for multiple columns."
   ]
  },
  {
   "cell_type": "code",
   "execution_count": 102,
   "id": "e05a5367",
   "metadata": {},
   "outputs": [
    {
     "name": "stdout",
     "output_type": "stream",
     "text": [
      "0      16.99\n",
      "1      10.34\n",
      "2      21.01\n",
      "3      23.68\n",
      "4      24.59\n",
      "       ...  \n",
      "239    29.03\n",
      "240    27.18\n",
      "241    22.67\n",
      "242    17.82\n",
      "243    18.78\n",
      "Name: total_bill, Length: 244, dtype: float64\n"
     ]
    }
   ],
   "source": [
    "# Accessing single column (returns Series)\n",
    "print(df['total_bill'])"
   ]
  },
  {
   "cell_type": "code",
   "execution_count": 103,
   "id": "4f0bbcab",
   "metadata": {},
   "outputs": [
    {
     "name": "stdout",
     "output_type": "stream",
     "text": [
      "     total_bill   tip\n",
      "0         16.99  1.01\n",
      "1         10.34  1.66\n",
      "2         21.01  3.50\n",
      "3         23.68  3.31\n",
      "4         24.59  3.61\n",
      "..          ...   ...\n",
      "239       29.03  5.92\n",
      "240       27.18  2.00\n",
      "241       22.67  2.00\n",
      "242       17.82  1.75\n",
      "243       18.78  3.00\n",
      "\n",
      "[244 rows x 2 columns]\n"
     ]
    }
   ],
   "source": [
    "# Accessing multiple columns (returns DataFrame)\n",
    "print(df[['total_bill', 'tip']])"
   ]
  },
  {
   "cell_type": "markdown",
   "id": "43e1426e",
   "metadata": {},
   "source": [
    "### Why Pandas Matters in Real Projects\n",
    "Data is rarely clean—Pandas helps you fix it.\n",
    "\n",
    "**Essential for:**\n",
    "- Feature engineering\n",
    "- Data visualization\n",
    "- Model-ready datasets\n",
    "- Data cleaning\n"
   ]
  },
  {
   "cell_type": "markdown",
   "id": "880ec9bd",
   "metadata": {},
   "source": [
    "### Best Practices (Quick Reference)\n",
    "- Start every project by inspecting data (`head()`, `info()`, `describe()`).\n",
    "- Keep original data in a `data/raw/` folder.\n",
    "- Avoid modifying raw data directly—create processed copies.\n",
    "- Document your data cleaning process.\n",
    "\n",
    "✅ **Note:**  \n",
    "For scalable projects, save clean data for reuse (`data/processed/`)."
   ]
  }
 ],
 "metadata": {
  "kernelspec": {
   "display_name": ".ml",
   "language": "python",
   "name": "python3"
  },
  "language_info": {
   "codemirror_mode": {
    "name": "ipython",
    "version": 3
   },
   "file_extension": ".py",
   "mimetype": "text/x-python",
   "name": "python",
   "nbconvert_exporter": "python",
   "pygments_lexer": "ipython3",
   "version": "3.10.18"
  }
 },
 "nbformat": 4,
 "nbformat_minor": 5
}
