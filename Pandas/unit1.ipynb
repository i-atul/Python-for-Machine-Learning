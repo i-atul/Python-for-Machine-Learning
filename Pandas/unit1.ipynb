{
 "cells": [
  {
   "cell_type": "markdown",
   "id": "55de129f",
   "metadata": {},
   "source": [
    "### **Introduction to Pandas & Core Data Structures**"
   ]
  },
  {
   "cell_type": "markdown",
   "id": "193bd196",
   "metadata": {},
   "source": [
    "**What is Pandas?**\n",
    "\n",
    "- Open-source Python library for handling structured data (rows & columns).\n",
    "\n",
    "- Used in data analysis, preprocessing, business reports, machine learning.\n",
    "\n",
    "- Document : https://pandas.pydata.org/docs/getting_started/install.html"
   ]
  },
  {
   "cell_type": "markdown",
   "id": "af5e9372",
   "metadata": {},
   "source": [
    "**How to Install Pandas**"
   ]
  },
  {
   "cell_type": "code",
   "execution_count": 45,
   "id": "253c4baf",
   "metadata": {},
   "outputs": [
    {
     "name": "stdout",
     "output_type": "stream",
     "text": [
      "Requirement already satisfied: pandas in /home/as/miniconda3/envs/.ml/lib/python3.10/site-packages (2.2.3)\n",
      "Requirement already satisfied: numpy>=1.22.4 in /home/as/miniconda3/envs/.ml/lib/python3.10/site-packages (from pandas) (2.0.1)\n",
      "Requirement already satisfied: python-dateutil>=2.8.2 in /home/as/miniconda3/envs/.ml/lib/python3.10/site-packages (from pandas) (2.9.0.post0)\n",
      "Requirement already satisfied: pytz>=2020.1 in /home/as/miniconda3/envs/.ml/lib/python3.10/site-packages (from pandas) (2025.2)\n",
      "Requirement already satisfied: tzdata>=2022.7 in /home/as/miniconda3/envs/.ml/lib/python3.10/site-packages (from pandas) (2025.2)\n",
      "Requirement already satisfied: six>=1.5 in /home/as/miniconda3/envs/.ml/lib/python3.10/site-packages (from python-dateutil>=2.8.2->pandas) (1.17.0)\n"
     ]
    }
   ],
   "source": [
    "# Run this command in terminal or Jupyter Notebook\n",
    "! pip install pandas"
   ]
  },
  {
   "cell_type": "markdown",
   "id": "f8abad35",
   "metadata": {},
   "source": [
    "### Importing Pandas"
   ]
  },
  {
   "cell_type": "code",
   "execution_count": 46,
   "id": "007c8d98",
   "metadata": {},
   "outputs": [],
   "source": [
    "import pandas as pd"
   ]
  },
  {
   "cell_type": "markdown",
   "id": "6459cb7d",
   "metadata": {},
   "source": [
    "### Pandas Series (1D Data)\n",
    "\n",
    "- One-dimensional labeled data (like a single Excel column).\n",
    "\n",
    "- Created from list, dict, or NumPy array.\n",
    "\n",
    "- Series is often used for single-variable analysis or as part of a larger DataFrame"
   ]
  },
  {
   "cell_type": "code",
   "execution_count": 47,
   "id": "a382552c",
   "metadata": {},
   "outputs": [
    {
     "name": "stdout",
     "output_type": "stream",
     "text": [
      "0    100\n",
      "1    200\n",
      "2    300\n",
      "dtype: int64\n"
     ]
    }
   ],
   "source": [
    "# Example: Creating a Series from a list\n",
    "import pandas as pd\n",
    "s1 = pd.Series([100, 200, 300])\n",
    "print(s1)"
   ]
  },
  {
   "cell_type": "code",
   "execution_count": 48,
   "id": "75721ed2",
   "metadata": {},
   "outputs": [
    {
     "name": "stdout",
     "output_type": "stream",
     "text": [
      "Math       90\n",
      "Science    85\n",
      "dtype: int64\n"
     ]
    }
   ],
   "source": [
    "# Example: Creating a Series from a dictionary\n",
    "s2 = pd.Series({'Math': 90, 'Science': 85})\n",
    "print(s2)"
   ]
  },
  {
   "cell_type": "markdown",
   "id": "2129d173",
   "metadata": {},
   "source": [
    "### Pandas DataFrame (2D Data)\n",
    "- Two-dimensional, labeled rows & columns (like an Excel sheet).\n",
    "\n",
    "- Created from:\n",
    "    - Dict of lists: { 'Name': ['A', 'B'], 'Age': [25, 30] }\n",
    "    - List of dicts (API responses)\n",
    "    - NumPy arrays\n",
    "\n",
    "    pd.DataFrame(data) ➔ Tabular format.\n",
    "\n",
    "✅ **Note:** Always set clear column names for readability and future automation."
   ]
  },
  {
   "cell_type": "code",
   "execution_count": 49,
   "id": "5749670c",
   "metadata": {},
   "outputs": [
    {
     "name": "stdout",
     "output_type": "stream",
     "text": [
      "  Name  Age\n",
      "0    A   25\n",
      "1    B   30\n"
     ]
    }
   ],
   "source": [
    "# Example: Creating a DataFrame from a dictionary of lists\n",
    "data = { 'Name': ['A', 'B'], 'Age': [25, 30] }\n",
    "df1 = pd.DataFrame(data)\n",
    "print(df1)"
   ]
  },
  {
   "cell_type": "code",
   "execution_count": 50,
   "id": "76f6dffd",
   "metadata": {},
   "outputs": [
    {
     "name": "stdout",
     "output_type": "stream",
     "text": [
      "  Name  Age\n",
      "0    A   25\n",
      "1    B   30\n"
     ]
    }
   ],
   "source": [
    "# Example: Creating a DataFrame from a list of dictionaries\n",
    "data2 = [ {'Name': 'A', 'Age': 25}, {'Name': 'B', 'Age': 30} ]\n",
    "df2 = pd.DataFrame(data2)\n",
    "print(df2)"
   ]
  },
  {
   "cell_type": "markdown",
   "id": "977a7e97",
   "metadata": {},
   "source": [
    "### Exploring DataFrames\n",
    "- **View rows:**  \n",
    "  `df.head()` ➔ First 5 rows (use numbers `df.head(10)` for no. of rows)  \n",
    "  `df.tail()` ➔ Last 5 rows (use numbers `df.tail(10)` for no. of rows) \n",
    "\n",
    "- **Dimensions:**  \n",
    "  `df.shape` ➔ Rows, Columns count\n",
    "\n",
    "- **Columns:**  \n",
    "  `df.columns` ➔ List column names\n",
    "\n",
    "- **Data Types:**  \n",
    "  `df.dtypes` ➔ Understand types (important for ML models)\n",
    "\n",
    "- **Quick Summary:**  \n",
    "  `df.info()` ➔ Nulls, types, size  \n",
    "  `df.describe()` ➔ Basic stats (for numeric data)"
   ]
  },
  {
   "cell_type": "code",
   "execution_count": 51,
   "id": "9baa568f",
   "metadata": {},
   "outputs": [
    {
     "name": "stdout",
     "output_type": "stream",
     "text": [
      "First 5 rows:\n",
      "  Name  Age\n",
      "0    A   25\n",
      "1    B   30\n"
     ]
    }
   ],
   "source": [
    "print(\"First 5 rows:\")\n",
    "print(df1.head())"
   ]
  },
  {
   "cell_type": "code",
   "execution_count": 52,
   "id": "fe3b19e8",
   "metadata": {},
   "outputs": [
    {
     "name": "stdout",
     "output_type": "stream",
     "text": [
      "Shape (rows, columns): (2, 2)\n"
     ]
    }
   ],
   "source": [
    "print(\"Shape (rows, columns):\", df1.shape)"
   ]
  },
  {
   "cell_type": "code",
   "execution_count": 53,
   "id": "aaceaf71",
   "metadata": {},
   "outputs": [
    {
     "name": "stdout",
     "output_type": "stream",
     "text": [
      "Columns: Index(['Name', 'Age'], dtype='object')\n"
     ]
    }
   ],
   "source": [
    "print(\"Columns:\", df1.columns)"
   ]
  },
  {
   "cell_type": "code",
   "execution_count": 54,
   "id": "bfbf38c6",
   "metadata": {},
   "outputs": [
    {
     "name": "stdout",
     "output_type": "stream",
     "text": [
      "Data types:\n",
      " Name    object\n",
      "Age      int64\n",
      "dtype: object\n"
     ]
    }
   ],
   "source": [
    "print(\"Data types:\\n\", df1.dtypes)"
   ]
  },
  {
   "cell_type": "code",
   "execution_count": 55,
   "id": "e20bd587",
   "metadata": {},
   "outputs": [
    {
     "name": "stdout",
     "output_type": "stream",
     "text": [
      "Info:\n",
      "\n",
      "<class 'pandas.core.frame.DataFrame'>\n",
      "RangeIndex: 2 entries, 0 to 1\n",
      "Data columns (total 2 columns):\n",
      " #   Column  Non-Null Count  Dtype \n",
      "---  ------  --------------  ----- \n",
      " 0   Name    2 non-null      object\n",
      " 1   Age     2 non-null      int64 \n",
      "dtypes: int64(1), object(1)\n",
      "memory usage: 160.0+ bytes\n"
     ]
    }
   ],
   "source": [
    "print(\"Info:\\n\")\n",
    "df1.info()"
   ]
  },
  {
   "cell_type": "code",
   "execution_count": 56,
   "id": "2b5673e6",
   "metadata": {},
   "outputs": [
    {
     "name": "stdout",
     "output_type": "stream",
     "text": [
      "Describe:\n",
      "\n",
      "             Age\n",
      "count   2.000000\n",
      "mean   27.500000\n",
      "std     3.535534\n",
      "min    25.000000\n",
      "25%    26.250000\n",
      "50%    27.500000\n",
      "75%    28.750000\n",
      "max    30.000000\n"
     ]
    }
   ],
   "source": [
    "print(\"Describe:\\n\")\n",
    "print(df1.describe())"
   ]
  },
  {
   "cell_type": "markdown",
   "id": "7486da10",
   "metadata": {},
   "source": [
    "### Creating Pandas Series\n",
    "**➔ From a List:**\n",
    "- `pd.Series([100, 200, 300])`\n",
    "- Quick creation for simple datasets (sales, counts).\n",
    "\n",
    "**➔ From a Dictionary:**\n",
    "- `pd.Series({'Math': 95, 'Physics': 88})`\n",
    "- Keys = labels ➔ Values = data.\n",
    "- Useful for labeled data like survey responses or category scores.\n",
    "\n",
    "**➔ From NumPy Array:**\n",
    "- `pd.Series(np.array([1, 2, 3, 4]))` \n",
    "- Ideal when data comes from scientific computations or numeric simulations.\n",
    "\n",
    "✅ **Note:**\n",
    "In ML projects, you often receive data as NumPy ➔ Convert to Pandas for easier manipulation and readability."
   ]
  },
  {
   "cell_type": "code",
   "execution_count": 57,
   "id": "0bfdd79d",
   "metadata": {},
   "outputs": [],
   "source": [
    "import numpy as np"
   ]
  },
  {
   "cell_type": "code",
   "execution_count": 58,
   "id": "3ae179c6",
   "metadata": {},
   "outputs": [
    {
     "name": "stdout",
     "output_type": "stream",
     "text": [
      "Series from list:\n",
      "0    100\n",
      "1    200\n",
      "2    300\n",
      "dtype: int64\n"
     ]
    }
   ],
   "source": [
    "# From a List\n",
    "series_list = pd.Series([100, 200, 300])\n",
    "print('Series from list:')\n",
    "print(series_list)"
   ]
  },
  {
   "cell_type": "code",
   "execution_count": 59,
   "id": "204c5c70",
   "metadata": {},
   "outputs": [
    {
     "name": "stdout",
     "output_type": "stream",
     "text": [
      "\n",
      "Series from dictionary:\n",
      "Math       95\n",
      "Physics    88\n",
      "dtype: int64\n"
     ]
    }
   ],
   "source": [
    "# From a Dictionary\n",
    "series_dict = pd.Series({'Math': 95, 'Physics': 88})\n",
    "print('\\nSeries from dictionary:')\n",
    "print(series_dict)"
   ]
  },
  {
   "cell_type": "code",
   "execution_count": 60,
   "id": "0306c816",
   "metadata": {},
   "outputs": [
    {
     "name": "stdout",
     "output_type": "stream",
     "text": [
      "\n",
      "Series from NumPy array:\n",
      "0    1\n",
      "1    2\n",
      "2    3\n",
      "3    4\n",
      "dtype: int64\n"
     ]
    }
   ],
   "source": [
    "# From a NumPy Array\n",
    "series_np = pd.Series(np.array([1, 2, 3, 4]))\n",
    "print('\\nSeries from NumPy array:')\n",
    "print(series_np)"
   ]
  },
  {
   "cell_type": "markdown",
   "id": "26e1a6b5",
   "metadata": {},
   "source": [
    "### Creating Pandas DataFrames — Multiple Methods\n",
    "**➔ From Dictionary of Lists (Most Common):**\n",
    "- `pd.DataFrame({'Name': ['John', 'Sara'], 'Age': [28, 22]})`\n",
    "- Best when data is manually created or imported from Excel.\n",
    "\n",
    "**➔ From List of Dictionaries (API-Friendly):**\n",
    "- `pd.DataFrame([{'Name': 'John', 'Age': 28}, {'Name': 'Sara', 'Age': 22}])`\n",
    "- Common when working with JSON APIs or MongoDB style documents.\n",
    "\n",
    "**➔ From NumPy Arrays:**\n",
    "- `pd.DataFrame(np.array([[1, 2], [3, 4]]), columns=['A', 'B'])`\n",
    "- Best for numeric matrices (images, financial models)."
   ]
  },
  {
   "cell_type": "code",
   "execution_count": 61,
   "id": "ce8b4631",
   "metadata": {},
   "outputs": [
    {
     "name": "stdout",
     "output_type": "stream",
     "text": [
      "DataFrame from dictionary of lists:\n",
      "   Name  Age\n",
      "0  John   28\n",
      "1  Sara   22\n"
     ]
    }
   ],
   "source": [
    "# From Dictionary of Lists\n",
    "df_dict = pd.DataFrame({'Name': ['John', 'Sara'], 'Age': [28, 22]})\n",
    "print('DataFrame from dictionary of lists:')\n",
    "print(df_dict)"
   ]
  },
  {
   "cell_type": "code",
   "execution_count": 62,
   "id": "9678d2ec",
   "metadata": {},
   "outputs": [
    {
     "name": "stdout",
     "output_type": "stream",
     "text": [
      "\n",
      "DataFrame from list of dictionaries:\n",
      "   Name  Age\n",
      "0  John   28\n",
      "1  Sara   22\n"
     ]
    }
   ],
   "source": [
    "# From List of Dictionaries\n",
    "df_list_dict = pd.DataFrame([{'Name': 'John', 'Age': 28}, {'Name': 'Sara', 'Age': 22}])\n",
    "print('\\nDataFrame from list of dictionaries:')\n",
    "print(df_list_dict)\n"
   ]
  },
  {
   "cell_type": "code",
   "execution_count": 63,
   "id": "1f76424e",
   "metadata": {},
   "outputs": [
    {
     "name": "stdout",
     "output_type": "stream",
     "text": [
      "\n",
      "DataFrame from NumPy array:\n",
      "   A  B\n",
      "0  1  2\n",
      "1  3  4\n"
     ]
    }
   ],
   "source": [
    "# From NumPy Arrays\n",
    "df_np = pd.DataFrame(np.array([[1, 2], [3, 4]]), columns=['A', 'B'])\n",
    "print('\\nDataFrame from NumPy array:')\n",
    "print(df_np)"
   ]
  },
  {
   "cell_type": "markdown",
   "id": "c426347e",
   "metadata": {},
   "source": [
    "### Real-World DataFrame Example — Customer Data\n",
    "Imagine receiving online store transaction data:\n",
    "\n",
    " ```python\n",
    "customer_list = [\n",
    " {'CustomerID': 101, 'Name': 'Alice', 'Purchase': 250.75},\n",
    " {'CustomerID': 102, 'Name': 'Bob', 'Purchase': 150.50},\n",
    " {'CustomerID': 103, 'Name': 'Charlie', 'Purchase': 300.00}\n",
    "]\n",
    "```\n",
    "- Use:\n",
    "`pd.DataFrame(customer_list)` ➔ Clean, ready-to-analyze tabular data.\n",
    "\n",
    "👉 This is exactly how API data or NoSQL database outputs look in real business projects.\n",
    "\n",
    "✅ **Note:**\n",
    "For messy nested JSON, use `json_normalize`."
   ]
  },
  {
   "cell_type": "code",
   "execution_count": 64,
   "id": "180ee8ec",
   "metadata": {},
   "outputs": [
    {
     "name": "stdout",
     "output_type": "stream",
     "text": [
      "Customer DataFrame:\n",
      "   CustomerID     Name  Purchase\n",
      "0         101    Alice    250.75\n",
      "1         102      Bob    150.50\n",
      "2         103  Charlie    300.00\n"
     ]
    }
   ],
   "source": [
    "customer_list = [\n",
    "    {'CustomerID': 101, 'Name': 'Alice', 'Purchase': 250.75},\n",
    "    {'CustomerID': 102, 'Name': 'Bob', 'Purchase': 150.50},\n",
    "    {'CustomerID': 103, 'Name': 'Charlie', 'Purchase': 300.00}\n",
    "]\n",
    "df_customers = pd.DataFrame(customer_list)\n",
    "print('Customer DataFrame:')\n",
    "print(df_customers)"
   ]
  },
  {
   "cell_type": "markdown",
   "id": "ac69f6d7",
   "metadata": {},
   "source": [
    "### Additional Essential Tricks\n",
    "**➔ Create Empty DataFrame:**\n",
    "- `pd.DataFrame()` ➔ Useful when building a table programmatically.\n",
    "\n",
    "**➔ Reset Index:**\n",
    "- `df.reset_index(drop=True)` ➔ Clean up index after filtering or grouping.\n",
    "\n",
    "**➔ Add New Rows:**\n",
    "- Appending rows ➔ use `pd.concat()` (not `.append()`, which is deprecated).\n",
    "\n",
    "✅ **Note:**\n",
    "Instead of appending rows one by one (which is slow), collect rows in a list and convert once to DataFrame.\n",
    "\n",
    "**Example:**\n",
    "\n",
    "Create: `rows = []`\n",
    "\n",
    "Add: `rows.append({'col1': val1, 'col2': val2})`\n",
    "\n",
    "Build: `df = pd.DataFrame(rows)`"
   ]
  },
  {
   "cell_type": "code",
   "execution_count": 65,
   "id": "29c2276c",
   "metadata": {},
   "outputs": [
    {
     "name": "stdout",
     "output_type": "stream",
     "text": [
      "Empty DataFrame:\n",
      "Empty DataFrame\n",
      "Columns: []\n",
      "Index: []\n"
     ]
    }
   ],
   "source": [
    "# Create Empty DataFrame\n",
    "empty_df = pd.DataFrame()\n",
    "print('Empty DataFrame:')\n",
    "print(empty_df)"
   ]
  },
  {
   "cell_type": "code",
   "execution_count": 66,
   "id": "2713ab69",
   "metadata": {},
   "outputs": [
    {
     "name": "stdout",
     "output_type": "stream",
     "text": [
      "\n",
      "DataFrame after reset_index:\n",
      "   Name  Age\n",
      "0  John   28\n",
      "1  Sara   22\n"
     ]
    }
   ],
   "source": [
    "# Reset Index Example\n",
    "df_reset = df_dict.reset_index(drop=True)\n",
    "print('\\nDataFrame after reset_index:')\n",
    "print(df_reset)"
   ]
  },
  {
   "cell_type": "code",
   "execution_count": 67,
   "id": "a0ee8856",
   "metadata": {},
   "outputs": [
    {
     "name": "stdout",
     "output_type": "stream",
     "text": [
      "\n",
      "DataFrame from collected rows:\n",
      "   col1 col2\n",
      "0     1    A\n",
      "1     2    B\n"
     ]
    }
   ],
   "source": [
    "# Add New Rows Efficiently\n",
    "rows = []\n",
    "rows.append({'col1': 1, 'col2': 'A'})\n",
    "rows.append({'col1': 2, 'col2': 'B'})\n",
    "df_rows = pd.DataFrame(rows)\n",
    "print('\\nDataFrame from collected rows:')\n",
    "print(df_rows)"
   ]
  },
  {
   "cell_type": "markdown",
   "id": "efe086c6",
   "metadata": {},
   "source": [
    "### Accessing Columns in DataFrame\n",
    "**➔ Single Column:**\n",
    "- Use square brackets: `df['Name']`\n",
    "- Returns a Series.\n",
    "\n",
    "**➔ Multiple Columns:**\n",
    "- Pass a list: `df[['Name', 'Score']]`\n",
    "- Returns a DataFrame.\n",
    "- Always use double square brackets for multiple columns."
   ]
  },
  {
   "cell_type": "code",
   "execution_count": 68,
   "id": "e05a5367",
   "metadata": {},
   "outputs": [
    {
     "name": "stdout",
     "output_type": "stream",
     "text": [
      "0    A\n",
      "1    B\n",
      "Name: Name, dtype: object\n"
     ]
    }
   ],
   "source": [
    "# Accessing single column (returns Series)\n",
    "print(df1['Name'])"
   ]
  },
  {
   "cell_type": "code",
   "execution_count": 69,
   "id": "4f0bbcab",
   "metadata": {},
   "outputs": [
    {
     "name": "stdout",
     "output_type": "stream",
     "text": [
      "  Name  Age\n",
      "0    A   25\n",
      "1    B   30\n"
     ]
    }
   ],
   "source": [
    "# Accessing multiple columns (returns DataFrame)\n",
    "print(df1[['Name', 'Age']])"
   ]
  },
  {
   "cell_type": "markdown",
   "id": "43e1426e",
   "metadata": {},
   "source": [
    "### Why Pandas Matters in Real Projects\n",
    "Data is rarely clean—Pandas helps you fix it.\n",
    "\n",
    "**Essential for:**\n",
    "- Feature engineering\n",
    "- Data visualization\n",
    "- Model-ready datasets\n",
    "- Data cleaning\n"
   ]
  },
  {
   "cell_type": "markdown",
   "id": "880ec9bd",
   "metadata": {},
   "source": [
    "### Best Practices (Quick Reference)\n",
    "- Start every project by inspecting data (`head()`, `info()`, `describe()`).\n",
    "- Keep original data in a `data/raw/` folder.\n",
    "- Avoid modifying raw data directly—create processed copies.\n",
    "- Document your data cleaning process.\n",
    "\n",
    "✅ **Note:**  \n",
    "For scalable projects, save clean data for reuse (`data/processed/`)."
   ]
  }
 ],
 "metadata": {
  "kernelspec": {
   "display_name": ".ml",
   "language": "python",
   "name": "python3"
  },
  "language_info": {
   "codemirror_mode": {
    "name": "ipython",
    "version": 3
   },
   "file_extension": ".py",
   "mimetype": "text/x-python",
   "name": "python",
   "nbconvert_exporter": "python",
   "pygments_lexer": "ipython3",
   "version": "3.10.18"
  }
 },
 "nbformat": 4,
 "nbformat_minor": 5
}
