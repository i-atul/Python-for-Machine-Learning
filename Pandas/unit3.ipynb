{
 "cells": [
  {
   "cell_type": "markdown",
   "id": "fb059cc2",
   "metadata": {},
   "source": [
    "# Handling Missing Values in Python"
   ]
  },
  {
   "cell_type": "markdown",
   "id": "1e153bc1",
   "metadata": {},
   "source": [
    "Missing values refer to absent or undefined data entries, often represented as `NaN`, `None`, `null`, or `NA`.  \n",
    "**Causes include:**\n",
    "- Data corruption  \n",
    "- Entry errors  \n",
    "- Incomplete survey responses  \n",
    "\n",
    "Unaddressed missing values can bias results and reduce model performance. Handling strategies include:\n",
    "- **Deletion** (drop rows/columns)\n",
    "- **Imputation** (fill in missing values)\n",
    "- **Using tolerant algorithms** (e.g., decision trees, XGBoost)"
   ]
  },
  {
   "cell_type": "markdown",
   "id": "2b07bd10",
   "metadata": {},
   "source": [
    "### Common Methods for Imputing Missing Values\n",
    "\n",
    "Imputation is the process of replacing missing values with inferred ones based on statistical or algorithmic methods. The appropriate technique depends on the data type, context, and missing data pattern (MCAR, MAR, or MNAR).\n",
    "\n",
    "---\n",
    "\n",
    "**1. Simple Statistical Imputation**\n",
    "\n",
    "- **Mean/Median Imputation** (for numerical data):\n",
    "  - Use **mean** if the feature is normally distributed.\n",
    "  - Use **median** if the feature has outliers or is skewed.\n",
    "\n",
    "- **Mode Imputation** (for categorical data):\n",
    "  - Replace missing values with the most frequent category (mode).\n",
    "\n",
    "---\n",
    "\n",
    "**2. K-Nearest Neighbors (KNN) Imputation**\n",
    "\n",
    "- Uses similarity between rows to estimate missing values.\n",
    "- Works for both numerical and categorical data.\n",
    "- Can capture local patterns but may be **computationally expensive**.\n",
    "\n",
    "---\n",
    "\n",
    "**3. Regression Imputation**\n",
    "\n",
    "- Predicts missing values using regression models based on other features.\n",
    "- Suitable when a strong linear or nonlinear relationship exists among variables.\n",
    "\n",
    "---\n",
    "\n",
    "**4. Tree-Based Imputation**\n",
    "\n",
    "- Uses **Decision Trees** or **Random Forests** to model and predict missing data.\n",
    "- Can:\n",
    "  - Handle missing values during training.\n",
    "  - Learn complex, non-linear patterns.\n",
    "  - Work well with mixed data types.\n",
    "\n",
    "---\n",
    "\n",
    "**5. Advanced Techniques**\n",
    "\n",
    "- **MICE (Multiple Imputation by Chained Equations)**:\n",
    "  - Iteratively models each variable with missing data using the others.\n",
    "  - Captures uncertainty and inter-variable relationships.\n",
    "\n",
    "- **Deep Learning Methods**:\n",
    "  - **Autoencoders** learn latent representations and reconstruct missing values.\n",
    "  - Best for high-dimensional or complex datasets.\n",
    "\n",
    "---\n",
    "\n",
    "**6. Time-Series Specific Methods**\n",
    "\n",
    "- **Forward-fill (`ffill`)**: Fill with the previous non-null value.\n",
    "- **Backward-fill (`bfill`)**: Fill with the next non-null value.\n",
    "- **Interpolation**: Estimate using linear or polynomial trends.\n"
   ]
  },
  {
   "cell_type": "markdown",
   "id": "09799197",
   "metadata": {},
   "source": [
    "### Important Considerations\n",
    "\n",
    "- **Understand the missingness pattern** before choosing a method (MCAR, MAR, MNAR).\n",
    "- Imputation makes assumptions — improper techniques can **introduce bias**.\n",
    "- Always validate imputation effects using **cross-validation** or **sensitivity analysis**."
   ]
  },
  {
   "cell_type": "markdown",
   "id": "eaf68f19",
   "metadata": {},
   "source": [
    "### Simple Statistical Imputation"
   ]
  },
  {
   "cell_type": "code",
   "execution_count": 1,
   "id": "3da97bd9",
   "metadata": {},
   "outputs": [],
   "source": [
    "import pandas as pd\n",
    "import numpy as np\n",
    "import seaborn as sns"
   ]
  },
  {
   "cell_type": "code",
   "execution_count": 113,
   "id": "f35be7ae",
   "metadata": {},
   "outputs": [
    {
     "data": {
      "text/plain": [
       "'/home/as/practice/Python-for-Machine-Learning'"
      ]
     },
     "execution_count": 113,
     "metadata": {},
     "output_type": "execute_result"
    }
   ],
   "source": [
    "%pwd"
   ]
  },
  {
   "cell_type": "code",
   "execution_count": 114,
   "id": "2333ef8c",
   "metadata": {},
   "outputs": [
    {
     "name": "stdout",
     "output_type": "stream",
     "text": [
      "[Errno 2] No such file or directory: 'Python-for-Machine-Learning/'\n",
      "/home/as/practice/Python-for-Machine-Learning\n"
     ]
    }
   ],
   "source": [
    "%cd Python-for-Machine-Learning/"
   ]
  },
  {
   "cell_type": "code",
   "execution_count": 115,
   "id": "bcc714b5",
   "metadata": {},
   "outputs": [
    {
     "data": {
      "text/html": [
       "<div>\n",
       "<style scoped>\n",
       "    .dataframe tbody tr th:only-of-type {\n",
       "        vertical-align: middle;\n",
       "    }\n",
       "\n",
       "    .dataframe tbody tr th {\n",
       "        vertical-align: top;\n",
       "    }\n",
       "\n",
       "    .dataframe thead th {\n",
       "        text-align: right;\n",
       "    }\n",
       "</style>\n",
       "<table border=\"1\" class=\"dataframe\">\n",
       "  <thead>\n",
       "    <tr style=\"text-align: right;\">\n",
       "      <th></th>\n",
       "      <th>id</th>\n",
       "      <th>listing_url</th>\n",
       "      <th>scrape_id</th>\n",
       "      <th>last_scraped</th>\n",
       "      <th>source</th>\n",
       "      <th>name</th>\n",
       "      <th>description</th>\n",
       "      <th>neighborhood_overview</th>\n",
       "      <th>picture_url</th>\n",
       "      <th>host_id</th>\n",
       "      <th>...</th>\n",
       "      <th>review_scores_communication</th>\n",
       "      <th>review_scores_location</th>\n",
       "      <th>review_scores_value</th>\n",
       "      <th>license</th>\n",
       "      <th>instant_bookable</th>\n",
       "      <th>calculated_host_listings_count</th>\n",
       "      <th>calculated_host_listings_count_entire_homes</th>\n",
       "      <th>calculated_host_listings_count_private_rooms</th>\n",
       "      <th>calculated_host_listings_count_shared_rooms</th>\n",
       "      <th>reviews_per_month</th>\n",
       "    </tr>\n",
       "  </thead>\n",
       "  <tbody>\n",
       "    <tr>\n",
       "      <th>0</th>\n",
       "      <td>2992450</td>\n",
       "      <td>https://www.airbnb.com/rooms/2992450</td>\n",
       "      <td>20250609011619</td>\n",
       "      <td>2025-06-09</td>\n",
       "      <td>city scrape</td>\n",
       "      <td>Luxury 2 bedroom apartment</td>\n",
       "      <td>The apartment is located in a quiet neighborho...</td>\n",
       "      <td>NaN</td>\n",
       "      <td>https://a0.muscache.com/pictures/44627226/0e72...</td>\n",
       "      <td>4621559</td>\n",
       "      <td>...</td>\n",
       "      <td>4.56</td>\n",
       "      <td>3.22</td>\n",
       "      <td>3.67</td>\n",
       "      <td>NaN</td>\n",
       "      <td>f</td>\n",
       "      <td>1</td>\n",
       "      <td>1</td>\n",
       "      <td>0</td>\n",
       "      <td>0</td>\n",
       "      <td>0.07</td>\n",
       "    </tr>\n",
       "    <tr>\n",
       "      <th>1</th>\n",
       "      <td>3820211</td>\n",
       "      <td>https://www.airbnb.com/rooms/3820211</td>\n",
       "      <td>20250609011619</td>\n",
       "      <td>2025-06-09</td>\n",
       "      <td>city scrape</td>\n",
       "      <td>Restored Precinct in Center Sq. w/Parking</td>\n",
       "      <td>Cozy, cool little 1BR Apt in the heart Albany'...</td>\n",
       "      <td>Great restaurants, architecture, walking, peop...</td>\n",
       "      <td>https://a0.muscache.com/pictures/prohost-api/H...</td>\n",
       "      <td>19648678</td>\n",
       "      <td>...</td>\n",
       "      <td>4.81</td>\n",
       "      <td>4.83</td>\n",
       "      <td>4.78</td>\n",
       "      <td>NaN</td>\n",
       "      <td>f</td>\n",
       "      <td>4</td>\n",
       "      <td>4</td>\n",
       "      <td>0</td>\n",
       "      <td>0</td>\n",
       "      <td>2.34</td>\n",
       "    </tr>\n",
       "    <tr>\n",
       "      <th>2</th>\n",
       "      <td>5651579</td>\n",
       "      <td>https://www.airbnb.com/rooms/5651579</td>\n",
       "      <td>20250609011619</td>\n",
       "      <td>2025-06-09</td>\n",
       "      <td>city scrape</td>\n",
       "      <td>Large studio apt  by Capital Center &amp; ESP@</td>\n",
       "      <td>Spacious studio with hardwood floors, fully eq...</td>\n",
       "      <td>The neighborhood is very eclectic. We have a v...</td>\n",
       "      <td>https://a0.muscache.com/pictures/b3fc42f3-6e5e...</td>\n",
       "      <td>29288920</td>\n",
       "      <td>...</td>\n",
       "      <td>4.88</td>\n",
       "      <td>4.76</td>\n",
       "      <td>4.64</td>\n",
       "      <td>NaN</td>\n",
       "      <td>f</td>\n",
       "      <td>2</td>\n",
       "      <td>1</td>\n",
       "      <td>1</td>\n",
       "      <td>0</td>\n",
       "      <td>3.02</td>\n",
       "    </tr>\n",
       "    <tr>\n",
       "      <th>3</th>\n",
       "      <td>6623339</td>\n",
       "      <td>https://www.airbnb.com/rooms/6623339</td>\n",
       "      <td>20250609011619</td>\n",
       "      <td>2025-06-09</td>\n",
       "      <td>city scrape</td>\n",
       "      <td>Center Sq. Loft in Converted Precinct w/ Parking</td>\n",
       "      <td>Large renovated 1 bedroom apartment in convert...</td>\n",
       "      <td>Located in Albany's finest urban neighborhood,...</td>\n",
       "      <td>https://a0.muscache.com/pictures/prohost-api/H...</td>\n",
       "      <td>19648678</td>\n",
       "      <td>...</td>\n",
       "      <td>4.70</td>\n",
       "      <td>4.80</td>\n",
       "      <td>4.72</td>\n",
       "      <td>NaN</td>\n",
       "      <td>f</td>\n",
       "      <td>4</td>\n",
       "      <td>4</td>\n",
       "      <td>0</td>\n",
       "      <td>0</td>\n",
       "      <td>2.72</td>\n",
       "    </tr>\n",
       "    <tr>\n",
       "      <th>4</th>\n",
       "      <td>9005989</td>\n",
       "      <td>https://www.airbnb.com/rooms/9005989</td>\n",
       "      <td>20250609011619</td>\n",
       "      <td>2025-06-09</td>\n",
       "      <td>city scrape</td>\n",
       "      <td>Studio in The heart of Center SQ, in Albany NY</td>\n",
       "      <td>(21 years of age or older ONLY) NON- SMOKING.....</td>\n",
       "      <td>There are many shops, restaurants, bars, museu...</td>\n",
       "      <td>https://a0.muscache.com/pictures/d242a77e-437c...</td>\n",
       "      <td>17766924</td>\n",
       "      <td>...</td>\n",
       "      <td>4.93</td>\n",
       "      <td>4.87</td>\n",
       "      <td>4.77</td>\n",
       "      <td>NaN</td>\n",
       "      <td>f</td>\n",
       "      <td>1</td>\n",
       "      <td>1</td>\n",
       "      <td>0</td>\n",
       "      <td>0</td>\n",
       "      <td>5.76</td>\n",
       "    </tr>\n",
       "  </tbody>\n",
       "</table>\n",
       "<p>5 rows × 79 columns</p>\n",
       "</div>"
      ],
      "text/plain": [
       "        id                           listing_url       scrape_id last_scraped  \\\n",
       "0  2992450  https://www.airbnb.com/rooms/2992450  20250609011619   2025-06-09   \n",
       "1  3820211  https://www.airbnb.com/rooms/3820211  20250609011619   2025-06-09   \n",
       "2  5651579  https://www.airbnb.com/rooms/5651579  20250609011619   2025-06-09   \n",
       "3  6623339  https://www.airbnb.com/rooms/6623339  20250609011619   2025-06-09   \n",
       "4  9005989  https://www.airbnb.com/rooms/9005989  20250609011619   2025-06-09   \n",
       "\n",
       "        source                                              name  \\\n",
       "0  city scrape                        Luxury 2 bedroom apartment   \n",
       "1  city scrape         Restored Precinct in Center Sq. w/Parking   \n",
       "2  city scrape        Large studio apt  by Capital Center & ESP@   \n",
       "3  city scrape  Center Sq. Loft in Converted Precinct w/ Parking   \n",
       "4  city scrape    Studio in The heart of Center SQ, in Albany NY   \n",
       "\n",
       "                                         description  \\\n",
       "0  The apartment is located in a quiet neighborho...   \n",
       "1  Cozy, cool little 1BR Apt in the heart Albany'...   \n",
       "2  Spacious studio with hardwood floors, fully eq...   \n",
       "3  Large renovated 1 bedroom apartment in convert...   \n",
       "4  (21 years of age or older ONLY) NON- SMOKING.....   \n",
       "\n",
       "                               neighborhood_overview  \\\n",
       "0                                                NaN   \n",
       "1  Great restaurants, architecture, walking, peop...   \n",
       "2  The neighborhood is very eclectic. We have a v...   \n",
       "3  Located in Albany's finest urban neighborhood,...   \n",
       "4  There are many shops, restaurants, bars, museu...   \n",
       "\n",
       "                                         picture_url   host_id  ...  \\\n",
       "0  https://a0.muscache.com/pictures/44627226/0e72...   4621559  ...   \n",
       "1  https://a0.muscache.com/pictures/prohost-api/H...  19648678  ...   \n",
       "2  https://a0.muscache.com/pictures/b3fc42f3-6e5e...  29288920  ...   \n",
       "3  https://a0.muscache.com/pictures/prohost-api/H...  19648678  ...   \n",
       "4  https://a0.muscache.com/pictures/d242a77e-437c...  17766924  ...   \n",
       "\n",
       "  review_scores_communication review_scores_location review_scores_value  \\\n",
       "0                        4.56                   3.22                3.67   \n",
       "1                        4.81                   4.83                4.78   \n",
       "2                        4.88                   4.76                4.64   \n",
       "3                        4.70                   4.80                4.72   \n",
       "4                        4.93                   4.87                4.77   \n",
       "\n",
       "  license instant_bookable calculated_host_listings_count  \\\n",
       "0     NaN                f                              1   \n",
       "1     NaN                f                              4   \n",
       "2     NaN                f                              2   \n",
       "3     NaN                f                              4   \n",
       "4     NaN                f                              1   \n",
       "\n",
       "  calculated_host_listings_count_entire_homes  \\\n",
       "0                                           1   \n",
       "1                                           4   \n",
       "2                                           1   \n",
       "3                                           4   \n",
       "4                                           1   \n",
       "\n",
       "  calculated_host_listings_count_private_rooms  \\\n",
       "0                                            0   \n",
       "1                                            0   \n",
       "2                                            1   \n",
       "3                                            0   \n",
       "4                                            0   \n",
       "\n",
       "  calculated_host_listings_count_shared_rooms reviews_per_month  \n",
       "0                                           0              0.07  \n",
       "1                                           0              2.34  \n",
       "2                                           0              3.02  \n",
       "3                                           0              2.72  \n",
       "4                                           0              5.76  \n",
       "\n",
       "[5 rows x 79 columns]"
      ]
     },
     "execution_count": 115,
     "metadata": {},
     "output_type": "execute_result"
    }
   ],
   "source": [
    "# Load Data\n",
    "df = pd.read_csv('Datasets/airbnb_listings.csv')\n",
    "df.head()"
   ]
  },
  {
   "cell_type": "code",
   "execution_count": 116,
   "id": "4a58af7e",
   "metadata": {},
   "outputs": [
    {
     "data": {
      "text/plain": [
       "id                                               0\n",
       "listing_url                                      0\n",
       "scrape_id                                        0\n",
       "last_scraped                                     0\n",
       "source                                           0\n",
       "                                                ..\n",
       "calculated_host_listings_count                   0\n",
       "calculated_host_listings_count_entire_homes      0\n",
       "calculated_host_listings_count_private_rooms     0\n",
       "calculated_host_listings_count_shared_rooms      0\n",
       "reviews_per_month                               67\n",
       "Length: 79, dtype: int64"
      ]
     },
     "execution_count": 116,
     "metadata": {},
     "output_type": "execute_result"
    }
   ],
   "source": [
    "df.isnull().sum()"
   ]
  },
  {
   "cell_type": "code",
   "execution_count": 117,
   "id": "916b9270",
   "metadata": {},
   "outputs": [
    {
     "data": {
      "text/plain": [
       "description                      10\n",
       "neighborhood_overview           249\n",
       "host_location                   108\n",
       "host_about                      206\n",
       "host_response_time               26\n",
       "host_response_rate               26\n",
       "host_acceptance_rate              8\n",
       "host_is_superhost                12\n",
       "host_neighbourhood               71\n",
       "neighbourhood                   249\n",
       "neighbourhood_group_cleansed    447\n",
       "bathrooms                        32\n",
       "bedrooms                          5\n",
       "beds                             32\n",
       "price                            32\n",
       "calendar_updated                447\n",
       "has_availability                  6\n",
       "estimated_revenue_l365d          32\n",
       "first_review                     67\n",
       "last_review                      67\n",
       "review_scores_rating             67\n",
       "review_scores_accuracy           67\n",
       "review_scores_cleanliness        67\n",
       "review_scores_checkin            67\n",
       "review_scores_communication      67\n",
       "review_scores_location           67\n",
       "review_scores_value              67\n",
       "license                         447\n",
       "reviews_per_month                67\n",
       "dtype: int64"
      ]
     },
     "execution_count": 117,
     "metadata": {},
     "output_type": "execute_result"
    }
   ],
   "source": [
    "## display columns only with missing values\n",
    "df.isnull().sum()[df.isnull().sum() > 0]"
   ]
  },
  {
   "cell_type": "code",
   "execution_count": 118,
   "id": "ddebac2f",
   "metadata": {},
   "outputs": [
    {
     "data": {
      "text/plain": [
       "Index(['id', 'scrape_id', 'host_id', 'host_listings_count',\n",
       "       'host_total_listings_count', 'neighbourhood_group_cleansed', 'latitude',\n",
       "       'longitude', 'accommodates', 'bathrooms', 'bedrooms', 'beds',\n",
       "       'minimum_nights', 'maximum_nights', 'minimum_minimum_nights',\n",
       "       'maximum_minimum_nights', 'minimum_maximum_nights',\n",
       "       'maximum_maximum_nights', 'minimum_nights_avg_ntm',\n",
       "       'maximum_nights_avg_ntm', 'calendar_updated', 'availability_30',\n",
       "       'availability_60', 'availability_90', 'availability_365',\n",
       "       'number_of_reviews', 'number_of_reviews_ltm', 'number_of_reviews_l30d',\n",
       "       'availability_eoy', 'number_of_reviews_ly', 'estimated_occupancy_l365d',\n",
       "       'estimated_revenue_l365d', 'review_scores_rating',\n",
       "       'review_scores_accuracy', 'review_scores_cleanliness',\n",
       "       'review_scores_checkin', 'review_scores_communication',\n",
       "       'review_scores_location', 'review_scores_value', 'license',\n",
       "       'calculated_host_listings_count',\n",
       "       'calculated_host_listings_count_entire_homes',\n",
       "       'calculated_host_listings_count_private_rooms',\n",
       "       'calculated_host_listings_count_shared_rooms', 'reviews_per_month'],\n",
       "      dtype='object')"
      ]
     },
     "execution_count": 118,
     "metadata": {},
     "output_type": "execute_result"
    }
   ],
   "source": [
    "# Separate numeric and categorical columns\n",
    "numeric_cols = df.select_dtypes(include=[\"int64\", \"float64\"]).columns\n",
    "categorical_cols = df.select_dtypes(include=[\"object\", \"category\"]).columns\n",
    "\n",
    "numeric_cols\n"
   ]
  },
  {
   "cell_type": "code",
   "execution_count": 119,
   "id": "5bba7428",
   "metadata": {},
   "outputs": [
    {
     "data": {
      "text/plain": [
       "Index(['listing_url', 'last_scraped', 'source', 'name', 'description',\n",
       "       'neighborhood_overview', 'picture_url', 'host_url', 'host_name',\n",
       "       'host_since', 'host_location', 'host_about', 'host_response_time',\n",
       "       'host_response_rate', 'host_acceptance_rate', 'host_is_superhost',\n",
       "       'host_thumbnail_url', 'host_picture_url', 'host_neighbourhood',\n",
       "       'host_verifications', 'host_has_profile_pic', 'host_identity_verified',\n",
       "       'neighbourhood', 'neighbourhood_cleansed', 'property_type', 'room_type',\n",
       "       'bathrooms_text', 'amenities', 'price', 'has_availability',\n",
       "       'calendar_last_scraped', 'first_review', 'last_review',\n",
       "       'instant_bookable'],\n",
       "      dtype='object')"
      ]
     },
     "execution_count": 119,
     "metadata": {},
     "output_type": "execute_result"
    }
   ],
   "source": [
    "categorical_cols"
   ]
  },
  {
   "cell_type": "code",
   "execution_count": 120,
   "id": "84e5f7af",
   "metadata": {},
   "outputs": [
    {
     "name": "stdout",
     "output_type": "stream",
     "text": [
      "[✔] neighbourhood_group_cleansed: Missing values imputed using median (nan)\n",
      "[✔] bathrooms: Missing values imputed using median (1.0)\n",
      "[✔] bedrooms: Missing values imputed using median (1.0)\n",
      "[✔] beds: Missing values imputed using median (1.0)\n",
      "[✔] calendar_updated: Missing values imputed using median (nan)\n",
      "[✔] estimated_revenue_l365d: Missing values imputed using median (5280.0)\n",
      "[✔] review_scores_rating: Missing values imputed using mean (4.745078947368421)\n",
      "[✔] review_scores_accuracy: Missing values imputed using mean (4.788684210526316)\n",
      "[✔] review_scores_cleanliness: Missing values imputed using mean (4.772342105263158)\n",
      "[✔] review_scores_checkin: Missing values imputed using mean (4.825868421052632)\n",
      "[✔] review_scores_communication: Missing values imputed using mean (4.848236842105263)\n",
      "[✔] review_scores_location: Missing values imputed using mean (4.664342105263159)\n",
      "[✔] review_scores_value: Missing values imputed using mean (4.709789473684211)\n",
      "[✔] license: Missing values imputed using median (nan)\n",
      "[✔] reviews_per_month: Missing values imputed using median (1.255)\n"
     ]
    },
    {
     "name": "stderr",
     "output_type": "stream",
     "text": [
      "/tmp/ipykernel_1633/202683654.py:10: FutureWarning: A value is trying to be set on a copy of a DataFrame or Series through chained assignment using an inplace method.\n",
      "The behavior will change in pandas 3.0. This inplace method will never work because the intermediate object on which we are setting values always behaves as a copy.\n",
      "\n",
      "For example, when doing 'df[col].method(value, inplace=True)', try using 'df.method({col: value}, inplace=True)' or df[col] = df[col].method(value) instead, to perform the operation inplace on the original object.\n",
      "\n",
      "\n",
      "  df[col].fillna(imputed_value, inplace=True)\n"
     ]
    }
   ],
   "source": [
    "#  Impute numeric features\n",
    "for col in numeric_cols:\n",
    "    if df[col].isnull().sum() > 0:\n",
    "        if df[col].skew() < 0.5: \n",
    "            imputed_value = df[col].mean()\n",
    "            method_used = \"mean\"\n",
    "        else:\n",
    "            imputed_value = df[col].median()\n",
    "            method_used = \"median\"\n",
    "        df[col].fillna(imputed_value, inplace=True)\n",
    "        print(f\"[✔] {col}: Missing values imputed using {method_used} ({imputed_value})\")"
   ]
  },
  {
   "cell_type": "code",
   "execution_count": 122,
   "id": "b01e6ab6",
   "metadata": {},
   "outputs": [
    {
     "name": "stdout",
     "output_type": "stream",
     "text": [
      "[✔] description: Missing values imputed using mode ('Charming 5 room bed and breakfast located across from Washington Park in Albany, NY. Each room has a private bathroom and workstation. Guests have access to a shared kitchen, dining area, living space and small office nook with printer.')\n",
      "[✔] neighborhood_overview: Missing values imputed using mode ('The Argus Hotel is located directly on Washington Park (Olmstead Design) is just a short walk to downtown, the Capitol Building and Empire State Plaza, Albany Medical Center, Albany Law School & Albany Pharmacy College, so leave your car for the day in our onsite parking lot. The hotel is only two blocks from hip Center Square, a neighborhood of 19th century brownstones, where you can stroll to numerous restaurants, galleries, pubs, and music venues.')\n",
      "[✔] host_location: Missing values imputed using mode ('Albany, NY')\n",
      "[✔] host_about: Missing values imputed using mode ('Hi my name is Scott Guadagnino. I’ve been in the Albany area for 9 years. Went to school in South Carolina. We love hosting and having guests at our 4 Airbnb’s!')\n",
      "[✔] host_response_time: Missing values imputed using mode ('within an hour')\n",
      "[✔] host_response_rate: Missing values imputed using mode ('100%')\n",
      "[✔] host_acceptance_rate: Missing values imputed using mode ('100%')\n",
      "[✔] host_is_superhost: Missing values imputed using mode ('t')\n",
      "[✔] host_neighbourhood: Missing values imputed using mode ('Pine Hills')\n",
      "[✔] neighbourhood: Missing values imputed using mode ('Neighborhood highlights')\n",
      "[✔] price: Missing values imputed using mode ('$52.00')\n",
      "[✔] has_availability: Missing values imputed using mode ('t')\n",
      "[✔] first_review: Missing values imputed using mode ('2021-02-07')\n",
      "[✔] last_review: Missing values imputed using mode ('2025-05-18')\n"
     ]
    },
    {
     "name": "stderr",
     "output_type": "stream",
     "text": [
      "/tmp/ipykernel_1633/2484694464.py:5: FutureWarning: A value is trying to be set on a copy of a DataFrame or Series through chained assignment using an inplace method.\n",
      "The behavior will change in pandas 3.0. This inplace method will never work because the intermediate object on which we are setting values always behaves as a copy.\n",
      "\n",
      "For example, when doing 'df[col].method(value, inplace=True)', try using 'df.method({col: value}, inplace=True)' or df[col] = df[col].method(value) instead, to perform the operation inplace on the original object.\n",
      "\n",
      "\n",
      "  df[col].fillna(mode_value,inplace=True)\n"
     ]
    }
   ],
   "source": [
    "# Impute categorical features\n",
    "for col in categorical_cols:\n",
    "    if df[col].isnull().sum() > 0:\n",
    "        mode_value = df[col].mode()[0]\n",
    "        df[col].fillna(mode_value,inplace=True) \n",
    "        print(f\"[✔] {col}: Missing values imputed using mode ('{mode_value}')\")"
   ]
  },
  {
   "cell_type": "code",
   "execution_count": 123,
   "id": "0d3143bb",
   "metadata": {},
   "outputs": [],
   "source": [
    "# drop columns with all missing values\n",
    "df.drop(columns=[\"calendar_updated\", \"license\", \"neighbourhood_group_cleansed\"], inplace=True)"
   ]
  },
  {
   "cell_type": "code",
   "execution_count": 124,
   "id": "97417e51",
   "metadata": {},
   "outputs": [
    {
     "name": "stdout",
     "output_type": "stream",
     "text": [
      "\n",
      "✅ Remaining missing values:\n",
      " Series([], dtype: int64)\n"
     ]
    }
   ],
   "source": [
    "# Final Check\n",
    "print(\"\\n✅ Remaining missing values:\\n\", df.isnull().sum()[df.isnull().sum() > 0])"
   ]
  },
  {
   "cell_type": "markdown",
   "id": "dad469df",
   "metadata": {},
   "source": [
    "### K-Nearest Neighbors (KNN) Imputation"
   ]
  },
  {
   "cell_type": "code",
   "execution_count": 22,
   "id": "16564a75",
   "metadata": {},
   "outputs": [],
   "source": [
    "from sklearn.impute import KNNImputer"
   ]
  },
  {
   "cell_type": "code",
   "execution_count": 23,
   "id": "f5fb78c4",
   "metadata": {},
   "outputs": [
    {
     "data": {
      "text/html": [
       "<div>\n",
       "<style scoped>\n",
       "    .dataframe tbody tr th:only-of-type {\n",
       "        vertical-align: middle;\n",
       "    }\n",
       "\n",
       "    .dataframe tbody tr th {\n",
       "        vertical-align: top;\n",
       "    }\n",
       "\n",
       "    .dataframe thead th {\n",
       "        text-align: right;\n",
       "    }\n",
       "</style>\n",
       "<table border=\"1\" class=\"dataframe\">\n",
       "  <thead>\n",
       "    <tr style=\"text-align: right;\">\n",
       "      <th></th>\n",
       "      <th>survived</th>\n",
       "      <th>pclass</th>\n",
       "      <th>sex</th>\n",
       "      <th>age</th>\n",
       "      <th>sibsp</th>\n",
       "      <th>parch</th>\n",
       "      <th>fare</th>\n",
       "      <th>embarked</th>\n",
       "      <th>class</th>\n",
       "      <th>who</th>\n",
       "      <th>adult_male</th>\n",
       "      <th>deck</th>\n",
       "      <th>embark_town</th>\n",
       "      <th>alive</th>\n",
       "      <th>alone</th>\n",
       "    </tr>\n",
       "  </thead>\n",
       "  <tbody>\n",
       "    <tr>\n",
       "      <th>0</th>\n",
       "      <td>0</td>\n",
       "      <td>3</td>\n",
       "      <td>male</td>\n",
       "      <td>22.0</td>\n",
       "      <td>1</td>\n",
       "      <td>0</td>\n",
       "      <td>7.2500</td>\n",
       "      <td>S</td>\n",
       "      <td>Third</td>\n",
       "      <td>man</td>\n",
       "      <td>True</td>\n",
       "      <td>NaN</td>\n",
       "      <td>Southampton</td>\n",
       "      <td>no</td>\n",
       "      <td>False</td>\n",
       "    </tr>\n",
       "    <tr>\n",
       "      <th>1</th>\n",
       "      <td>1</td>\n",
       "      <td>1</td>\n",
       "      <td>female</td>\n",
       "      <td>38.0</td>\n",
       "      <td>1</td>\n",
       "      <td>0</td>\n",
       "      <td>71.2833</td>\n",
       "      <td>C</td>\n",
       "      <td>First</td>\n",
       "      <td>woman</td>\n",
       "      <td>False</td>\n",
       "      <td>C</td>\n",
       "      <td>Cherbourg</td>\n",
       "      <td>yes</td>\n",
       "      <td>False</td>\n",
       "    </tr>\n",
       "    <tr>\n",
       "      <th>2</th>\n",
       "      <td>1</td>\n",
       "      <td>3</td>\n",
       "      <td>female</td>\n",
       "      <td>26.0</td>\n",
       "      <td>0</td>\n",
       "      <td>0</td>\n",
       "      <td>7.9250</td>\n",
       "      <td>S</td>\n",
       "      <td>Third</td>\n",
       "      <td>woman</td>\n",
       "      <td>False</td>\n",
       "      <td>NaN</td>\n",
       "      <td>Southampton</td>\n",
       "      <td>yes</td>\n",
       "      <td>True</td>\n",
       "    </tr>\n",
       "    <tr>\n",
       "      <th>3</th>\n",
       "      <td>1</td>\n",
       "      <td>1</td>\n",
       "      <td>female</td>\n",
       "      <td>35.0</td>\n",
       "      <td>1</td>\n",
       "      <td>0</td>\n",
       "      <td>53.1000</td>\n",
       "      <td>S</td>\n",
       "      <td>First</td>\n",
       "      <td>woman</td>\n",
       "      <td>False</td>\n",
       "      <td>C</td>\n",
       "      <td>Southampton</td>\n",
       "      <td>yes</td>\n",
       "      <td>False</td>\n",
       "    </tr>\n",
       "    <tr>\n",
       "      <th>4</th>\n",
       "      <td>0</td>\n",
       "      <td>3</td>\n",
       "      <td>male</td>\n",
       "      <td>35.0</td>\n",
       "      <td>0</td>\n",
       "      <td>0</td>\n",
       "      <td>8.0500</td>\n",
       "      <td>S</td>\n",
       "      <td>Third</td>\n",
       "      <td>man</td>\n",
       "      <td>True</td>\n",
       "      <td>NaN</td>\n",
       "      <td>Southampton</td>\n",
       "      <td>no</td>\n",
       "      <td>True</td>\n",
       "    </tr>\n",
       "  </tbody>\n",
       "</table>\n",
       "</div>"
      ],
      "text/plain": [
       "   survived  pclass     sex   age  sibsp  parch     fare embarked  class  \\\n",
       "0         0       3    male  22.0      1      0   7.2500        S  Third   \n",
       "1         1       1  female  38.0      1      0  71.2833        C  First   \n",
       "2         1       3  female  26.0      0      0   7.9250        S  Third   \n",
       "3         1       1  female  35.0      1      0  53.1000        S  First   \n",
       "4         0       3    male  35.0      0      0   8.0500        S  Third   \n",
       "\n",
       "     who  adult_male deck  embark_town alive  alone  \n",
       "0    man        True  NaN  Southampton    no  False  \n",
       "1  woman       False    C    Cherbourg   yes  False  \n",
       "2  woman       False  NaN  Southampton   yes   True  \n",
       "3  woman       False    C  Southampton   yes  False  \n",
       "4    man        True  NaN  Southampton    no   True  "
      ]
     },
     "execution_count": 23,
     "metadata": {},
     "output_type": "execute_result"
    }
   ],
   "source": [
    "df = sns.load_dataset('titanic')\n",
    "df.head()"
   ]
  },
  {
   "cell_type": "code",
   "execution_count": 24,
   "id": "e382d904",
   "metadata": {},
   "outputs": [
    {
     "data": {
      "text/plain": [
       "deck           688\n",
       "age            177\n",
       "embarked         2\n",
       "embark_town      2\n",
       "sex              0\n",
       "pclass           0\n",
       "survived         0\n",
       "fare             0\n",
       "parch            0\n",
       "sibsp            0\n",
       "class            0\n",
       "adult_male       0\n",
       "who              0\n",
       "alive            0\n",
       "alone            0\n",
       "dtype: int64"
      ]
     },
     "execution_count": 24,
     "metadata": {},
     "output_type": "execute_result"
    }
   ],
   "source": [
    "df.isnull().sum().sort_values(ascending=False)"
   ]
  },
  {
   "cell_type": "code",
   "execution_count": 25,
   "id": "56878f20",
   "metadata": {},
   "outputs": [],
   "source": [
    "imputer = KNNImputer(n_neighbors=4, weights=\"uniform\") # You can tune n_neighbors\n",
    "df['age'] = imputer.fit_transform(df[['age']]) # Impute age column "
   ]
  },
  {
   "cell_type": "code",
   "execution_count": 26,
   "id": "9a6adbfe",
   "metadata": {},
   "outputs": [
    {
     "data": {
      "text/plain": [
       "deck           688\n",
       "embarked         2\n",
       "embark_town      2\n",
       "age              0\n",
       "survived         0\n",
       "pclass           0\n",
       "sex              0\n",
       "fare             0\n",
       "parch            0\n",
       "sibsp            0\n",
       "class            0\n",
       "adult_male       0\n",
       "who              0\n",
       "alive            0\n",
       "alone            0\n",
       "dtype: int64"
      ]
     },
     "execution_count": 26,
     "metadata": {},
     "output_type": "execute_result"
    }
   ],
   "source": [
    "df.isnull().sum().sort_values(ascending=False)"
   ]
  },
  {
   "cell_type": "markdown",
   "id": "49890b37",
   "metadata": {},
   "source": []
  }
 ],
 "metadata": {
  "kernelspec": {
   "display_name": ".ml",
   "language": "python",
   "name": "python3"
  },
  "language_info": {
   "codemirror_mode": {
    "name": "ipython",
    "version": 3
   },
   "file_extension": ".py",
   "mimetype": "text/x-python",
   "name": "python",
   "nbconvert_exporter": "python",
   "pygments_lexer": "ipython3",
   "version": "3.10.18"
  }
 },
 "nbformat": 4,
 "nbformat_minor": 5
}
